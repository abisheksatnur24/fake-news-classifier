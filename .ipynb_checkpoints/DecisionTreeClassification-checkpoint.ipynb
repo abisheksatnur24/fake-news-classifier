{
 "cells": [
  {
   "cell_type": "code",
   "execution_count": 2,
   "id": "259f5aef",
   "metadata": {},
   "outputs": [],
   "source": [
    "# Imports\n",
    "import pandas as pd\n",
    "import numpy as np\n",
    "import matplotlib.pyplot as plt\n",
    "import scipy.sparse\n",
    "from sklearn.feature_extraction.text import TfidfVectorizer,CountVectorizer\n",
    "from sklearn.model_selection import train_test_split\n",
    "from sklearn.ensemble import RandomForestClassifier\n",
    "from sklearn.metrics import accuracy_score, recall_score, f1_score, precision_score\n",
    "from bs4 import BeautifulSoup\n",
    "from collections import Counter\n",
    "import nltk\n",
    "from nltk.tokenize import word_tokenize\n",
    "from nltk.corpus import stopwords\n",
    "from nltk.stem import WordNetLemmatizer\n",
    "import re\n",
    "import string"
   ]
  },
  {
   "cell_type": "code",
   "execution_count": 3,
   "id": "fe205d6c",
   "metadata": {},
   "outputs": [],
   "source": [
    "# Read in data from CSV files\n",
    "train = pd.read_csv(\"Dataset/train.csv\")\n",
    "test = pd.read_csv(\"Dataset/test.csv\")"
   ]
  },
  {
   "cell_type": "code",
   "execution_count": 4,
   "id": "85085baa",
   "metadata": {},
   "outputs": [
    {
     "name": "stderr",
     "output_type": "stream",
     "text": [
      "C:\\Users\\Andrew\\anaconda3\\lib\\site-packages\\bs4\\__init__.py:435: MarkupResemblesLocatorWarning: The input looks more like a filename than markup. You may want to open this file and pass the filehandle into Beautiful Soup.\n",
      "  warnings.warn(\n"
     ]
    }
   ],
   "source": [
    "# Data preprocessing\n",
    "\n",
    "# Drop subject/date and concatenating text and title\n",
    "train[\"text\"] = train[\"title\"] + \" \" + train[\"text\"]\n",
    "test[\"text\"] = test[\"title\"] + \" \" + test[\"text\"]\n",
    "\n",
    "train = train.drop([\"subject\", \"date\", \"title\"], axis = 1)\n",
    "test = test.drop([\"subject\", \"date\", \"title\"], axis = 1)\n",
    "\n",
    "def clean_text_data(data_point):\n",
    "    review_soup = BeautifulSoup(data_point)\n",
    "    review_text = review_soup.get_text()\n",
    "    review_letters_only = re.sub(\"[^a-zA-Z]\", \" \", review_text)\n",
    "    review_lower_case = review_letters_only.lower()  \n",
    "    review_words = review_lower_case.split() \n",
    "    stop_words = stopwords.words(\"english\")\n",
    "    meaningful_words = [x for x in review_words if x not in stop_words]\n",
    "        \n",
    "    return(\" \".join(meaningful_words)) \n",
    "\n",
    "train[\"text\"] = train[\"text\"].apply(clean_text_data)\n",
    "test[\"text\"] = test[\"text\"].apply(clean_text_data)"
   ]
  },
  {
   "cell_type": "code",
   "execution_count": 5,
   "id": "98227ba4",
   "metadata": {},
   "outputs": [
    {
     "data": {
      "text/html": [
       "<div>\n",
       "<style scoped>\n",
       "    .dataframe tbody tr th:only-of-type {\n",
       "        vertical-align: middle;\n",
       "    }\n",
       "\n",
       "    .dataframe tbody tr th {\n",
       "        vertical-align: top;\n",
       "    }\n",
       "\n",
       "    .dataframe thead th {\n",
       "        text-align: right;\n",
       "    }\n",
       "</style>\n",
       "<table border=\"1\" class=\"dataframe\">\n",
       "  <thead>\n",
       "    <tr style=\"text-align: right;\">\n",
       "      <th></th>\n",
       "      <th>text</th>\n",
       "      <th>label</th>\n",
       "    </tr>\n",
       "  </thead>\n",
       "  <tbody>\n",
       "    <tr>\n",
       "      <th>0</th>\n",
       "      <td>clinton faces pressure pick vp tough trade wal...</td>\n",
       "      <td>real</td>\n",
       "    </tr>\n",
       "    <tr>\n",
       "      <th>1</th>\n",
       "      <td>ryan trump cite positive step toward republica...</td>\n",
       "      <td>real</td>\n",
       "    </tr>\n",
       "    <tr>\n",
       "      <th>2</th>\n",
       "      <td>watch president obama dares republicans suppor...</td>\n",
       "      <td>fake</td>\n",
       "    </tr>\n",
       "    <tr>\n",
       "      <th>3</th>\n",
       "      <td>hariri warns lebanon faces arab sanctions risk...</td>\n",
       "      <td>real</td>\n",
       "    </tr>\n",
       "    <tr>\n",
       "      <th>4</th>\n",
       "      <td>poem twas night cnn christmas acr boiler room ...</td>\n",
       "      <td>fake</td>\n",
       "    </tr>\n",
       "    <tr>\n",
       "      <th>...</th>\n",
       "      <td>...</td>\n",
       "      <td>...</td>\n",
       "    </tr>\n",
       "    <tr>\n",
       "      <th>39893</th>\n",
       "      <td>lol photo accompanying google search pathologi...</td>\n",
       "      <td>fake</td>\n",
       "    </tr>\n",
       "    <tr>\n",
       "      <th>39894</th>\n",
       "      <td>trump wants children would break law donald tr...</td>\n",
       "      <td>fake</td>\n",
       "    </tr>\n",
       "    <tr>\n",
       "      <th>39895</th>\n",
       "      <td>gay activists march serb capital behind police...</td>\n",
       "      <td>real</td>\n",
       "    </tr>\n",
       "    <tr>\n",
       "      <th>39896</th>\n",
       "      <td>boiler room smoking gunz tune alternate curren...</td>\n",
       "      <td>fake</td>\n",
       "    </tr>\n",
       "    <tr>\n",
       "      <th>39897</th>\n",
       "      <td>fire fury trump team talks north korea congres...</td>\n",
       "      <td>real</td>\n",
       "    </tr>\n",
       "  </tbody>\n",
       "</table>\n",
       "<p>39898 rows × 2 columns</p>\n",
       "</div>"
      ],
      "text/plain": [
       "                                                    text label\n",
       "0      clinton faces pressure pick vp tough trade wal...  real\n",
       "1      ryan trump cite positive step toward republica...  real\n",
       "2      watch president obama dares republicans suppor...  fake\n",
       "3      hariri warns lebanon faces arab sanctions risk...  real\n",
       "4      poem twas night cnn christmas acr boiler room ...  fake\n",
       "...                                                  ...   ...\n",
       "39893  lol photo accompanying google search pathologi...  fake\n",
       "39894  trump wants children would break law donald tr...  fake\n",
       "39895  gay activists march serb capital behind police...  real\n",
       "39896  boiler room smoking gunz tune alternate curren...  fake\n",
       "39897  fire fury trump team talks north korea congres...  real\n",
       "\n",
       "[39898 rows x 2 columns]"
      ]
     },
     "execution_count": 5,
     "metadata": {},
     "output_type": "execute_result"
    }
   ],
   "source": [
    "# View cleaned train dataset\n",
    "train"
   ]
  },
  {
   "cell_type": "code",
   "execution_count": 6,
   "id": "2815bef5",
   "metadata": {},
   "outputs": [
    {
     "data": {
      "text/html": [
       "<div>\n",
       "<style scoped>\n",
       "    .dataframe tbody tr th:only-of-type {\n",
       "        vertical-align: middle;\n",
       "    }\n",
       "\n",
       "    .dataframe tbody tr th {\n",
       "        vertical-align: top;\n",
       "    }\n",
       "\n",
       "    .dataframe thead th {\n",
       "        text-align: right;\n",
       "    }\n",
       "</style>\n",
       "<table border=\"1\" class=\"dataframe\">\n",
       "  <thead>\n",
       "    <tr style=\"text-align: right;\">\n",
       "      <th></th>\n",
       "      <th>text</th>\n",
       "      <th>label</th>\n",
       "    </tr>\n",
       "  </thead>\n",
       "  <tbody>\n",
       "    <tr>\n",
       "      <th>0</th>\n",
       "      <td>factbox taxes budget u congress calendar tight...</td>\n",
       "      <td>real</td>\n",
       "    </tr>\n",
       "    <tr>\n",
       "      <th>1</th>\n",
       "      <td>breaking israel worst fears confirmed says isr...</td>\n",
       "      <td>fake</td>\n",
       "    </tr>\n",
       "    <tr>\n",
       "      <th>2</th>\n",
       "      <td>u drug enforcement chief step agency reuters u...</td>\n",
       "      <td>real</td>\n",
       "    </tr>\n",
       "    <tr>\n",
       "      <th>3</th>\n",
       "      <td>factbox trump twitter oct rex tillerson puerto...</td>\n",
       "      <td>real</td>\n",
       "    </tr>\n",
       "    <tr>\n",
       "      <th>4</th>\n",
       "      <td>fcc chief plans ditch u net neutrality rules w...</td>\n",
       "      <td>real</td>\n",
       "    </tr>\n",
       "    <tr>\n",
       "      <th>...</th>\n",
       "      <td>...</td>\n",
       "      <td>...</td>\n",
       "    </tr>\n",
       "    <tr>\n",
       "      <th>4995</th>\n",
       "      <td>republicans told stop talking healthcare repea...</td>\n",
       "      <td>fake</td>\n",
       "    </tr>\n",
       "    <tr>\n",
       "      <th>4996</th>\n",
       "      <td>texas bill restricting insurance coverage abor...</td>\n",
       "      <td>real</td>\n",
       "    </tr>\n",
       "    <tr>\n",
       "      <th>4997</th>\n",
       "      <td>montana dems hilariously troll reporter slammi...</td>\n",
       "      <td>fake</td>\n",
       "    </tr>\n",
       "    <tr>\n",
       "      <th>4998</th>\n",
       "      <td>trump says gave classified info russia humanit...</td>\n",
       "      <td>fake</td>\n",
       "    </tr>\n",
       "    <tr>\n",
       "      <th>4999</th>\n",
       "      <td>trump jr paid k event hosted russian allies oc...</td>\n",
       "      <td>fake</td>\n",
       "    </tr>\n",
       "  </tbody>\n",
       "</table>\n",
       "<p>5000 rows × 2 columns</p>\n",
       "</div>"
      ],
      "text/plain": [
       "                                                   text label\n",
       "0     factbox taxes budget u congress calendar tight...  real\n",
       "1     breaking israel worst fears confirmed says isr...  fake\n",
       "2     u drug enforcement chief step agency reuters u...  real\n",
       "3     factbox trump twitter oct rex tillerson puerto...  real\n",
       "4     fcc chief plans ditch u net neutrality rules w...  real\n",
       "...                                                 ...   ...\n",
       "4995  republicans told stop talking healthcare repea...  fake\n",
       "4996  texas bill restricting insurance coverage abor...  real\n",
       "4997  montana dems hilariously troll reporter slammi...  fake\n",
       "4998  trump says gave classified info russia humanit...  fake\n",
       "4999  trump jr paid k event hosted russian allies oc...  fake\n",
       "\n",
       "[5000 rows x 2 columns]"
      ]
     },
     "execution_count": 6,
     "metadata": {},
     "output_type": "execute_result"
    }
   ],
   "source": [
    "# View cleaned test dataset\n",
    "test"
   ]
  },
  {
   "cell_type": "code",
   "execution_count": 7,
   "id": "de5d6f1a",
   "metadata": {},
   "outputs": [],
   "source": [
    "# Split data into Pandas Series for X and Y\n",
    "X_train = pd.DataFrame(train, columns = ['text']).squeeze()\n",
    "X_test = pd.DataFrame(test, columns = ['text']).squeeze()\n",
    "Y_train = pd.DataFrame(train, columns = ['label']).squeeze()\n",
    "Y_test = pd.DataFrame(test, columns = ['label']).squeeze()"
   ]
  },
  {
   "cell_type": "code",
   "execution_count": 8,
   "id": "35a0571c",
   "metadata": {},
   "outputs": [],
   "source": [
    "# Convert the text into bag-of-words features\n",
    "vectorizer = CountVectorizer()\n",
    "X_train = vectorizer.fit_transform(X_train)\n",
    "X_test = vectorizer.transform(X_test)"
   ]
  },
  {
   "cell_type": "code",
   "execution_count": 18,
   "id": "14bb4d1b",
   "metadata": {},
   "outputs": [],
   "source": [
    "class DecisionTree:\n",
    "    # Constructor, initialize max depth\n",
    "    def __init__(self, max_depth=None):\n",
    "        #WORKING\n",
    "        self.max_depth = max_depth\n",
    "    \n",
    "    # Fit tree, calls _build tree helper function\n",
    "    def fit(self, X, Y):\n",
    "        #WORKING\n",
    "        self.tree = self._build_tree(X, Y)\n",
    "    \n",
    "    # Make predictions on input data using the trained decision tree model\n",
    "    def predict(self, X):\n",
    "        #WORKING\n",
    "        # Check if X is csr_matrix\n",
    "        if(isinstance(X, scipy.sparse._csr.csr_matrix)):\n",
    "            predictions = []\n",
    "            num_rows, _ = X.shape\n",
    "            for idx in range(num_rows):\n",
    "                prediction = self._traverse_tree(X.getrow(idx).toarray()[0], self.tree)\n",
    "                predictions.append(prediction)\n",
    "        else:\n",
    "            predictions = []\n",
    "            num_rows, _ = X.shape\n",
    "            for idx in range(num_rows):\n",
    "                prediction = self._traverse_tree(X.iloc[idx], self.tree)\n",
    "                predictions.append(prediction)\n",
    "            \n",
    "#             predictions = [self._traverse_tree(x, self.tree) for x in X]\n",
    "        return predictions\n",
    "\n",
    "    # Build tree by recursively splitting input data on best feature given information gain criterion\n",
    "    def _build_tree(self, X, Y, depth=0):\n",
    "        # Initialize variables\n",
    "        num_samples, num_features = X.shape\n",
    "        num_classes = len(set(Y))\n",
    "        best_gain = -1\n",
    "        best_split_feature = None\n",
    "        best_split_val = None\n",
    "        left_X_passed = None\n",
    "        right_X_passed = None\n",
    "        left_Y_passed = None\n",
    "        right_Y_passed = None\n",
    "        \n",
    "        # If maximum depth has been reached or all samples belong to the same class, return a leaf node\n",
    "        if depth == self.max_depth or num_classes == 1:\n",
    "            return Leaf(Y)\n",
    "        \n",
    "        for feature_idx in range(num_features): \n",
    "            # Check if X is csr_matrix\n",
    "            if(isinstance(X, scipy.sparse._csr.csr_matrix)):\n",
    "                feature_vals = X.getcol(feature_idx).toarray().flat\n",
    "            else:\n",
    "                feature_vals = X.iloc[:, feature_idx]\n",
    "    \n",
    "            possible_vals = np.unique(feature_vals)\n",
    "            \n",
    "            for split_val in possible_vals:\n",
    "                # Calculate index values\n",
    "                left_idx = feature_vals <= split_val\n",
    "                right_idx = feature_vals > split_val\n",
    "    \n",
    "                # If either the left or right split is empty, skip this split\n",
    "                if np.sum(left_idx) == 0 or np.sum(right_idx) == 0:\n",
    "                    continue\n",
    "                \n",
    "                if(isinstance(X, scipy.sparse._csr.csr_matrix)):\n",
    "                    # Calculate left and right \n",
    "                    left_X = X[left_idx, :]\n",
    "                    right_X = X[right_idx, :]\n",
    "                    left_Y = Y[left_idx]\n",
    "                    right_Y = Y[right_idx]\n",
    "                else:\n",
    "                    # Calculate left and right \n",
    "                    left_X = X.loc[left_idx, :]\n",
    "                    right_X = X.loc[right_idx, :]\n",
    "                    left_Y = Y.loc[left_idx]\n",
    "                    right_Y = Y.loc[right_idx]\n",
    "                \n",
    "                # Calcuate gain using information gain helper function\n",
    "                gain = self._information_gain(Y, left_Y, right_Y)\n",
    "                \n",
    "                # If gain is greater than best_gain, update \n",
    "                if gain > best_gain:\n",
    "                    best_gain = gain\n",
    "                    best_split_feature = feature_idx\n",
    "                    best_split_val = split_val\n",
    "                    left_X_passed = left_X\n",
    "                    right_X_passed = right_X\n",
    "                    left_Y_passed = left_Y\n",
    "                    right_Y_passed = right_Y\n",
    "                    \n",
    "        # If best_gain is zero, return a leaf\n",
    "        if best_gain == 0:\n",
    "            return Leaf(Y)\n",
    "        \n",
    "        # If best gain > zero, build left and right tree and return node with new best_split_feature\n",
    "        left_tree = self._build_tree(left_X_passed, left_Y_passed, depth+1)\n",
    "        right_tree = self._build_tree(right_X_passed, right_Y_passed, depth+1)\n",
    "        return Node(best_split_feature, best_split_val, left_tree, right_tree)\n",
    "\n",
    "    # Traverse the decision tree to predict the class of a test sample\n",
    "    def _traverse_tree(self, x, node):\n",
    "        #WORKING\n",
    "        # If node is a leaf, return the predicted class\n",
    "        if isinstance(node, Leaf):\n",
    "            return node.predicted_class\n",
    "        \n",
    "        # Check against split_val, traverse left or right tree accordingly\n",
    "#         print(x)\n",
    "        if x[node.split_feature] < node.split_val:\n",
    "            return self._traverse_tree(x, node.left_tree)\n",
    "        else:\n",
    "            return self._traverse_tree(x, node.right_tree)\n",
    "\n",
    "    def _information_gain(self, Y, left_Y, right_Y):\n",
    "        #WORKING\n",
    "        # Initialize variables\n",
    "        num_samples = len(Y)\n",
    "        num_left = len(left_Y)\n",
    "        num_right = len(right_Y)\n",
    "        \n",
    "        # Calculate entropy before split\n",
    "        entropy_before_split = self._entropy(Y)\n",
    "        \n",
    "        # Calculate entropy after split\n",
    "        entropy_after_split = ((num_left / num_samples) * self._entropy(left_Y)\n",
    "                               + (num_right / num_samples) * self._entropy(right_Y))\n",
    "        \n",
    "        # Calculate information gain\n",
    "        return entropy_before_split - entropy_after_split\n",
    "\n",
    "    def _entropy(self, Y):\n",
    "        #WORKING\n",
    "        # Calculate the entropy of a set of samples\n",
    "        num_samples = len(Y)\n",
    "        \n",
    "        # If number of samples is zero, return zero\n",
    "        if num_samples == 0:\n",
    "            return 0\n",
    "        \n",
    "        _, counts = np.unique(Y, return_counts=True)\n",
    "        class_probs = counts / num_samples\n",
    "        \n",
    "        # Return calculated entropy\n",
    "        return -np.sum(class_probs * np.log2(class_probs))\n",
    "    \n",
    "    def print_tree(self, tree=None, indent=\" \"):\n",
    "        #WORKING\n",
    "        ''' function to print the tree '''\n",
    "        \n",
    "        if not tree:\n",
    "            tree = self.tree\n",
    "            \n",
    "        if(isinstance(tree, Leaf)):\n",
    "            print(tree.predicted_class)\n",
    "\n",
    "        else:\n",
    "            print(\"X_\"+str(tree.split_feature), \"<=\", tree.split_val, \"?\")\n",
    "            print(\"%sleft:\" % (indent), end=\"\")\n",
    "            self.print_tree(tree.left_tree, indent + indent)\n",
    "            print(\"%sright:\" % (indent), end=\"\")\n",
    "            self.print_tree(tree.right_tree, indent + indent)\n",
    "\n",
    "\n",
    "# Node class definition\n",
    "class Node:\n",
    "    def __init__(self, split_feature, split_val, left_tree, right_tree):\n",
    "        self.split_feature = split_feature\n",
    "        self.split_val = split_val\n",
    "        self.left_tree = left_tree\n",
    "        self.right_tree = right_tree\n",
    "\n",
    "# Leaf class definition\n",
    "class Leaf:\n",
    "    def __init__(self, y):\n",
    "        self.predicted_class = Counter(y).most_common(1)[0][0]"
   ]
  },
  {
   "cell_type": "code",
   "execution_count": 987,
   "id": "c999b5da",
   "metadata": {},
   "outputs": [],
   "source": [
    "# NOTE ABOUT SCORES:\n",
    "# Model was working perfectly before but when running last time... I had made some changes before pushing to git\n",
    "# and must have changed one small thing that broke it, unforunately, the model took so long to run, I ran out of\n",
    "# time to see that errors had occured while waiting on accuracy, recall, and f1 score\n",
    "# Will attempt to resolve ahead of presentation and resubmit if allowed"
   ]
  },
  {
   "cell_type": "code",
   "execution_count": null,
   "id": "ec6525a3",
   "metadata": {},
   "outputs": [],
   "source": [
    "# TESTS ON IRIS DATASET"
   ]
  },
  {
   "cell_type": "code",
   "execution_count": 19,
   "id": "3264865e",
   "metadata": {},
   "outputs": [],
   "source": [
    "col_names = ['sepal_length', 'sepal_width', 'petal_length', 'petal_width', 'type']\n",
    "csv_url = 'https://archive.ics.uci.edu/ml/machine-learning-databases/iris/iris.data'\n",
    "data = pd.read_csv(csv_url, header = None, names=col_names)"
   ]
  },
  {
   "cell_type": "code",
   "execution_count": 21,
   "id": "1a96a1ae",
   "metadata": {},
   "outputs": [],
   "source": [
    "X = data.iloc[:, :-1]\n",
    "Y = data.iloc[:, -1]\n",
    "\n",
    "X_train_iris, X_test_iris, Y_train_iris, Y_test_iris = train_test_split(X, Y, test_size=.2, random_state=41)"
   ]
  },
  {
   "cell_type": "code",
   "execution_count": 22,
   "id": "8e5c2ea3",
   "metadata": {
    "scrolled": false
   },
   "outputs": [],
   "source": [
    "dt = DecisionTree()\n",
    "dt.fit(X_train_iris, Y_train_iris)"
   ]
  },
  {
   "cell_type": "code",
   "execution_count": 23,
   "id": "1b7c42f0",
   "metadata": {},
   "outputs": [
    {
     "name": "stdout",
     "output_type": "stream",
     "text": [
      "X_2 <= 1.9 ?\n",
      " left:Iris-setosa\n",
      " right:X_3 <= 1.5 ?\n",
      "  left:X_2 <= 4.9 ?\n",
      "    left:Iris-versicolor\n",
      "    right:Iris-virginica\n",
      "  right:X_2 <= 5.0 ?\n",
      "    left:X_1 <= 2.8 ?\n",
      "        left:Iris-virginica\n",
      "        right:X_0 <= 5.9 ?\n",
      "                left:Iris-versicolor\n",
      "                right:X_0 <= 6.0 ?\n",
      "                                left:Iris-virginica\n",
      "                                right:Iris-versicolor\n",
      "    right:Iris-virginica\n"
     ]
    }
   ],
   "source": [
    "dt.print_tree()"
   ]
  },
  {
   "cell_type": "code",
   "execution_count": 24,
   "id": "280fb21f",
   "metadata": {},
   "outputs": [],
   "source": [
    "Y_pred = dt.predict(X_test)"
   ]
  },
  {
   "cell_type": "code",
   "execution_count": null,
   "id": "790d9d7d",
   "metadata": {},
   "outputs": [],
   "source": [
    "# Split data into Pandas Series for X and Y, reduce dataset for model testing\n",
    "X_train, X_val, Y_train, Y_val = train_test_split(train[\"text\"], train[\"label\"], test_size=0.2, random_state=42)"
   ]
  },
  {
   "cell_type": "code",
   "execution_count": 25,
   "id": "fdaa5ca9",
   "metadata": {},
   "outputs": [
    {
     "data": {
      "text/plain": [
       "0.9333333333333333"
      ]
     },
     "execution_count": 25,
     "metadata": {},
     "output_type": "execute_result"
    }
   ],
   "source": [
    "accuracy_score(Y_test, Y_pred)"
   ]
  },
  {
   "cell_type": "code",
   "execution_count": null,
   "id": "2fff44c0",
   "metadata": {},
   "outputs": [],
   "source": [
    "# NOTE ABOUT SCORES:\n",
    "# Model was working perfectly before but when running last time... I had made some changes before pushing to git\n",
    "# and must have changed one small thing that broke it, unforunately, the model took so long to run, I ran out of\n",
    "# time to see that errors had occured while waiting on accuracy, recall, and f1 score\n",
    "# Will attempt to resolve ahead of presentation and resubmit if allowed"
   ]
  },
  {
   "cell_type": "code",
   "execution_count": 28,
   "id": "280e1c36",
   "metadata": {},
   "outputs": [],
   "source": [
    "# # Split data into Pandas Series for X and Y, reduce dataset for model testing\n",
    "# X_train_t, X_val_t, Y_train_t, Y_val_t = train_test_split(train[\"text\"], train[\"label\"], test_size=0.2, random_state=42)"
   ]
  },
  {
   "cell_type": "code",
   "execution_count": 36,
   "id": "3f7ff259",
   "metadata": {},
   "outputs": [],
   "source": [
    "# Split data into Pandas Series for X and Y, reduce dataset for model testing\n",
    "rows_to_drop = train.sample(39798).index\n",
    "reduced_data = train.drop(rows_to_drop)\n",
    "\n",
    "# Split data into Pandas Series for X and Y, reduce dataset for model testing\n",
    "X_train_t, X_val_t, Y_train_t, Y_val_t = train_test_split(reduced_data[\"text\"], reduced_data[\"label\"], test_size=0.2, random_state=42)"
   ]
  },
  {
   "cell_type": "code",
   "execution_count": 40,
   "id": "7f13381a",
   "metadata": {},
   "outputs": [],
   "source": [
    "# Convert the text into bag-of-words features\n",
    "vectorizer = CountVectorizer()\n",
    "X_train_reduced_t = vectorizer.fit_transform(X_train_t)\n",
    "X_val_reduced_t = vectorizer.transform(X_val_t)"
   ]
  },
  {
   "cell_type": "code",
   "execution_count": 55,
   "id": "9bc4e6b4",
   "metadata": {},
   "outputs": [
    {
     "name": "stdout",
     "output_type": "stream",
     "text": [
      "5\n"
     ]
    }
   ],
   "source": [
    "print(max(X_train_reduced_t.getrow(0).toarray()[0]))"
   ]
  },
  {
   "cell_type": "code",
   "execution_count": 30,
   "id": "87a2f908",
   "metadata": {},
   "outputs": [],
   "source": [
    "# Split data into Pandas Series for X and Y\n",
    "X_train = pd.DataFrame(train, columns = ['text']).squeeze()\n",
    "X_test = pd.DataFrame(test, columns = ['text']).squeeze()\n",
    "Y_train = pd.DataFrame(train, columns = ['label']).squeeze()\n",
    "Y_test = pd.DataFrame(test, columns = ['label']).squeeze()"
   ]
  },
  {
   "cell_type": "code",
   "execution_count": 27,
   "id": "a0486e77",
   "metadata": {},
   "outputs": [],
   "source": [
    "# Convert the text into bag-of-words features\n",
    "X_train_reduced = vectorizer.fit_transform(X_train)\n",
    "X_val_reduced = vectorizer.transform(X_val)"
   ]
  },
  {
   "cell_type": "code",
   "execution_count": null,
   "id": "608467de",
   "metadata": {},
   "outputs": [],
   "source": [
    "# Create model with a max_depth of 50 trees, train on reduced datasets at first for testing purposes\n",
    "dt_full = DecisionTree(max_depth = 50)\n",
    "dt_full.fit(X_train_reduced, Y_train)"
   ]
  },
  {
   "cell_type": "code",
   "execution_count": null,
   "id": "576ae672",
   "metadata": {},
   "outputs": [],
   "source": [
    "# Predict scores\n",
    "Y_pred = dt.predict(X_val_reduced)"
   ]
  },
  {
   "cell_type": "code",
   "execution_count": null,
   "id": "5a01ee17",
   "metadata": {},
   "outputs": [],
   "source": [
    "# Accuracy Score\n",
    "accuracy_score(Y_val, Y_pred)"
   ]
  }
 ],
 "metadata": {
  "kernelspec": {
   "display_name": "Python 3 (ipykernel)",
   "language": "python",
   "name": "python3"
  },
  "language_info": {
   "codemirror_mode": {
    "name": "ipython",
    "version": 3
   },
   "file_extension": ".py",
   "mimetype": "text/x-python",
   "name": "python",
   "nbconvert_exporter": "python",
   "pygments_lexer": "ipython3",
   "version": "3.10.9"
  }
 },
 "nbformat": 4,
 "nbformat_minor": 5
}
